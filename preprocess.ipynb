{
 "cells": [
  {
   "cell_type": "code",
   "execution_count": 18,
   "outputs": [
    {
     "name": "stdout",
     "output_type": "stream",
     "text": [
      "[[         0          0          0 1548565200]\n",
      " [         0          0          1 1548565200]\n",
      " [         1          0          2 1539144000]\n",
      " ...\n",
      " [      4843       3116       1492 1537588800]\n",
      " [      8920       3117         35 1531454400]\n",
      " [      8921       3118        235 1552194000]]\n"
     ]
    }
   ],
   "source": [
    "import numpy as np\n",
    "edges_all = np.loadtxt('data/bonanza_buyer_item_seller_id_R_2.txt', delimiter='::')\n",
    "edges_all = edges_all.astype(int)\n",
    "print(edges_all)"
   ],
   "metadata": {
    "collapsed": false,
    "pycharm": {
     "name": "#%%\n"
    }
   }
  },
  {
   "cell_type": "code",
   "execution_count": 19,
   "outputs": [],
   "source": [
    "buyer_item = edges_all[:, 0:2]\n",
    "item_seller = edges_all[:, 1:3]"
   ],
   "metadata": {
    "collapsed": false,
    "pycharm": {
     "name": "#%%\n"
    }
   }
  },
  {
   "cell_type": "code",
   "execution_count": 20,
   "outputs": [
    {
     "name": "stdout",
     "output_type": "stream",
     "text": [
      "(19016,)\n",
      "(5224,)\n",
      "(5200,)\n"
     ]
    }
   ],
   "source": [
    "indices = np.arange(edges_all.shape[0])\n",
    "np.random.shuffle(indices)\n",
    "\n",
    "nums = edges_all.shape[0]\n",
    "num_val = int(nums * 0.15)\n",
    "num_test = int(nums * 0.15)\n",
    "num_train = nums - num_val - num_test\n",
    "\n",
    "train_indices = indices[:num_train]\n",
    "val_indices = indices[num_train:num_train+num_val]\n",
    "test_indices = indices[num_train+num_val:]\n",
    "\n",
    "\n",
    "train_set = {}\n",
    "val_set = {}\n",
    "test_set = {}\n",
    "buyer_item_set = {}\n",
    "for i in range(buyer_item.shape[0]):\n",
    "    pair = buyer_item[i, 0], buyer_item[i, 1]\n",
    "    if pair not in buyer_item_set.keys():\n",
    "        buyer_item_set[pair] = 1\n",
    "    else:\n",
    "        buyer_item_set[pair] += 1\n",
    "    if i in train_indices:\n",
    "        train_set[pair] = 1\n",
    "    elif i in val_indices:\n",
    "        val_set[pair] = 1\n",
    "    elif i in test_indices:\n",
    "        test_set[pair] = 1\n",
    "    else:\n",
    "        print(\"Error\")\n",
    "\n",
    "buyer_item_outputs = []\n",
    "train_outputs = []\n",
    "val_outputs = []\n",
    "test_outputs = []\n",
    "for idx, (pair, count) in enumerate(buyer_item_set.items()):\n",
    "    buyer, item = pair\n",
    "    line = ' '.join([str(buyer), str(item), str(count)]) + '\\n'\n",
    "    buyer_item_outputs.append(line)\n",
    "    if pair in train_set.keys():\n",
    "        train_outputs.append(idx)\n",
    "    if pair in val_set.keys():\n",
    "        val_outputs.append(idx)\n",
    "    if pair in test_set.keys():\n",
    "        test_outputs.append(idx)\n",
    "train_outputs = np.array(train_outputs, dtype=int)\n",
    "val_outputs = np.array(val_outputs, dtype=int)\n",
    "test_outputs = np.array(test_outputs, dtype=int)\n",
    "print(train_outputs.shape)\n",
    "print(val_outputs.shape)\n",
    "print(test_outputs.shape)"
   ],
   "metadata": {
    "collapsed": false,
    "pycharm": {
     "name": "#%%\n"
    }
   }
  },
  {
   "cell_type": "code",
   "execution_count": 21,
   "outputs": [
    {
     "name": "stdout",
     "output_type": "stream",
     "text": [
      "[    0     1     2 ... 24877 24879 24880]\n"
     ]
    }
   ],
   "source": [
    "print(train_outputs)\n",
    "with open('data/split/buyer_item.txt', 'w') as fp:\n",
    "\tfp.writelines(buyer_item_outputs)\n",
    "np.savetxt('data/split/buyer_item_train.txt', train_outputs, fmt='%i')\n",
    "np.savetxt('data/split/buyer_item_val.txt', val_outputs, fmt='%i')\n",
    "np.savetxt('data/split/buyer_item_test.txt', test_outputs, fmt='%i')"
   ],
   "metadata": {
    "collapsed": false,
    "pycharm": {
     "name": "#%%\n"
    }
   }
  },
  {
   "cell_type": "code",
   "execution_count": 22,
   "outputs": [
    {
     "name": "stdout",
     "output_type": "stream",
     "text": [
      "(12724,)\n",
      "(3725,)\n",
      "(3771,)\n"
     ]
    }
   ],
   "source": [
    "train_set = {}\n",
    "val_set = {}\n",
    "test_set = {}\n",
    "item_seller_set = {}\n",
    "for i in range(item_seller.shape[0]):\n",
    "    pair = item_seller[i, 0], item_seller[i, 1]\n",
    "    if pair not in item_seller_set.keys():\n",
    "        item_seller_set[pair] = 1\n",
    "    else:\n",
    "        item_seller_set[pair] += 1\n",
    "    if i in train_indices:\n",
    "        train_set[pair] = 1\n",
    "    elif i in val_indices:\n",
    "        val_set[pair] = 1\n",
    "    elif i in test_indices:\n",
    "        test_set[pair] = 1\n",
    "    else:\n",
    "        print(\"Error\")\n",
    "\n",
    "item_seller_outputs = []\n",
    "train_outputs = []\n",
    "val_outputs = []\n",
    "test_outputs = []\n",
    "for idx, (pair, count) in enumerate(item_seller_set.items()):\n",
    "    buyer, item = pair\n",
    "    line = ' '.join([str(buyer), str(item), str(count)]) + '\\n'\n",
    "    item_seller_outputs.append(line)\n",
    "    if pair in train_set.keys():\n",
    "        train_outputs.append(idx)\n",
    "    if pair in val_set.keys():\n",
    "        val_outputs.append(idx)\n",
    "    if pair in test_set.keys():\n",
    "        test_outputs.append(idx)\n",
    "train_outputs = np.array(train_outputs, dtype=int)\n",
    "val_outputs = np.array(val_outputs, dtype=int)\n",
    "test_outputs = np.array(test_outputs, dtype=int)\n",
    "print(train_outputs.shape)\n",
    "print(val_outputs.shape)\n",
    "print(test_outputs.shape)"
   ],
   "metadata": {
    "collapsed": false,
    "pycharm": {
     "name": "#%%\n"
    }
   }
  },
  {
   "cell_type": "code",
   "execution_count": 23,
   "outputs": [
    {
     "name": "stdout",
     "output_type": "stream",
     "text": [
      "[    2     3     5 ... 16628 16630 16631]\n"
     ]
    }
   ],
   "source": [
    "print(train_outputs)\n",
    "with open('data/split/item_seller.txt', 'w') as fp:\n",
    "\tfp.writelines(item_seller_outputs)\n",
    "np.savetxt('data/split/item_seller_train.txt', train_outputs, fmt='%i')\n",
    "np.savetxt('data/split/item_seller_val.txt', val_outputs, fmt='%i')\n",
    "np.savetxt('data/split/item_seller_test.txt', test_outputs, fmt='%i')"
   ],
   "metadata": {
    "collapsed": false,
    "pycharm": {
     "name": "#%%\n"
    }
   }
  },
  {
   "cell_type": "code",
   "execution_count": 22,
   "outputs": [],
   "source": [
    "buyer_item_set = {}\n",
    "for i in range(buyer_item.shape[0]):\n",
    "    pair = buyer_item[i, 0], buyer_item[i, 1]\n",
    "    if pair not in buyer_item_set.keys():\n",
    "        buyer_item_set[pair] = 1\n",
    "    else:\n",
    "        buyer_item_set[pair] += 1\n",
    "\n",
    "buyer_item_outputs = []\n",
    "for pair, count in buyer_item_set.items():\n",
    "    buyer, item = pair\n",
    "    line = ' '.join([str(buyer), str(item), str(count)]) + '\\n'\n",
    "    buyer_item_outputs.append(line)"
   ],
   "metadata": {
    "collapsed": false,
    "pycharm": {
     "name": "#%%\n"
    }
   }
  },
  {
   "cell_type": "code",
   "execution_count": 23,
   "outputs": [],
   "source": [
    "with open('data/buyer_item.txt', 'w') as fp:\n",
    "\tfp.writelines(buyer_item_outputs)"
   ],
   "metadata": {
    "collapsed": false,
    "pycharm": {
     "name": "#%%\n"
    }
   }
  },
  {
   "cell_type": "code",
   "execution_count": 24,
   "outputs": [],
   "source": [
    "item_seller_set = {}\n",
    "for i in range(item_seller.shape[0]):\n",
    "    pair = item_seller[i, 0], item_seller[i, 1]\n",
    "    if pair not in item_seller_set.keys():\n",
    "        item_seller_set[pair] = 1\n",
    "    else:\n",
    "        item_seller_set[pair] += 1\n",
    "\n",
    "item_seller_outputs = []\n",
    "for pair, count in item_seller_set.items():\n",
    "    item, seller = pair\n",
    "    line = ' '.join([str(item), str(seller), str(count)]) + '\\n'\n",
    "    item_seller_outputs.append(line)"
   ],
   "metadata": {
    "collapsed": false,
    "pycharm": {
     "name": "#%%\n"
    }
   }
  },
  {
   "cell_type": "code",
   "execution_count": 25,
   "outputs": [],
   "source": [
    "with open('data/item_seller.txt', 'w') as fp:\n",
    "\tfp.writelines(item_seller_outputs)"
   ],
   "metadata": {
    "collapsed": false,
    "pycharm": {
     "name": "#%%\n"
    }
   }
  },
  {
   "cell_type": "code",
   "execution_count": null,
   "outputs": [],
   "source": [],
   "metadata": {
    "collapsed": false,
    "pycharm": {
     "name": "#%%\n"
    }
   }
  }
 ],
 "metadata": {
  "kernelspec": {
   "display_name": "Python 3",
   "language": "python",
   "name": "python3"
  },
  "language_info": {
   "codemirror_mode": {
    "name": "ipython",
    "version": 2
   },
   "file_extension": ".py",
   "mimetype": "text/x-python",
   "name": "python",
   "nbconvert_exporter": "python",
   "pygments_lexer": "ipython2",
   "version": "2.7.6"
  }
 },
 "nbformat": 4,
 "nbformat_minor": 0
}